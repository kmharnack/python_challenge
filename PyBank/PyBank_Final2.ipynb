{
 "cells": [
  {
   "cell_type": "code",
   "execution_count": 47,
   "metadata": {},
   "outputs": [
    {
     "name": "stdout",
     "output_type": "stream",
     "text": [
      "\n",
      " Financial Analysis\n",
      " ----------------------------\n",
      "    Total Months: $86\n",
      "    Total: $36646810\n",
      "    Average  Change: $-2315.12\n",
      "    Greatest Increase in Profits: Feb-2012 ($1926159)\n",
      "    Greatest Decrease in Profits: Sep-2013 ($-2196167)\n"
     ]
    }
   ],
   "source": [
    "import os\n",
    "import csv\n",
    "import sys\n",
    "csvpath = os.path.join('resources/budget_data.csv')\n",
    "\n",
    "totalMonths=0\n",
    "totalProfit=0.00\n",
    "profit =0\n",
    "increase = 0\n",
    "greatestIncrease=\"\"\n",
    "decrease= sys.maxsize\n",
    "greatestDecrease=\"\"\n",
    "change_values=[]\n",
    "\n",
    "\n",
    "with open(csvpath) as csvfile:\n",
    "\n",
    "    csvreader=csv.reader(csvfile)\n",
    "    \n",
    "    next(csvreader)\n",
    "    row1=next(csvreader)\n",
    "    totalProfit=totalProfit-float(row1[1])\n",
    "    totalMonths+= 1\n",
    "    previousMonth=float(row1[1])\n",
    "    \n",
    "    for row in csvreader:\n",
    "        totalMonths=totalMonths+1\n",
    "        \n",
    "        profit=float(row[1])\n",
    "        totalProfit=totalProfit+profit\n",
    "        change= profit -previousMonth\n",
    "        previousMonth=profit\n",
    "        change_values.append(change)      \n",
    "        \n",
    "        if change > increase:\n",
    "            increase = change\n",
    "            greatestIncrease = row[0]\n",
    "        if change < decrease:\n",
    "            decrease = change\n",
    "            greatestDecrease = row[0]\n",
    "            \n",
    "average_change=sum(change_values)/len(change_values)   \n",
    "        \n",
    "output= f'''\n",
    " Financial Analysis\n",
    " ----------------------------\n",
    "    Total Months: ${totalMonths}\n",
    "    Total: ${totalProfit:.0f}\n",
    "    Average  Change: ${average_change:.2f}\n",
    "    Greatest Increase in Profits: {greatestIncrease} (${increase:.0f})\n",
    "    Greatest Decrease in Profits: {greatestDecrease} (${decrease:.0f})'''\n",
    "\n",
    "print(output)\n",
    "\n",
    "with open('pybank_output.txt', 'w') as outputfile:\n",
    "    outputfile.write(output)\n",
    "\n",
    "        "
   ]
  },
  {
   "cell_type": "code",
   "execution_count": null,
   "metadata": {},
   "outputs": [],
   "source": [
    "# \t• Your task is to create a Python script that analyzes the records to calculate each of the following:\n",
    "# \t\t○ The total number of months included in the dataset\n",
    "# \t\t○ The net total amount of \"Profit/Losses\" over the entire period\n",
    "# \t\t○ The average of the changes in \"Profit/Losses\" over the entire period\n",
    "# \t\t○ The greatest increase in profits (date and amount) over the entire period\n",
    "# \t\t○ The greatest decrease in losses (date and amount) over the entire period\n",
    "# \t• As an example, your analysis should look similar to the one below:\n",
    "# Financial Analysis\n",
    "# ----------------------------\n",
    "# Total Months: 86\n",
    "# Total: $38382578\n",
    "# Average  Change: $-2315.12\n",
    "# Greatest Increase in Profits: Feb-2012 ($1926159)\n",
    "# Greatest Decrease in Profits: Sep-2013 ($-2196167)\n",
    "# In addition, your final script should both print the analysis to the terminal and export a text file with the results."
   ]
  }
 ],
 "metadata": {
  "kernelspec": {
   "display_name": "Python 3",
   "language": "python",
   "name": "python3"
  },
  "language_info": {
   "codemirror_mode": {
    "name": "ipython",
    "version": 3
   },
   "file_extension": ".py",
   "mimetype": "text/x-python",
   "name": "python",
   "nbconvert_exporter": "python",
   "pygments_lexer": "ipython3",
   "version": "3.7.6"
  }
 },
 "nbformat": 4,
 "nbformat_minor": 4
}
